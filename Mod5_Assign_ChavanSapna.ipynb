{
 "cells": [
  {
   "cell_type": "code",
   "execution_count": 2,
   "metadata": {},
   "outputs": [
    {
     "data": {
      "text/plain": [
       "'d:\\\\MPS ANALYTICS\\\\Q4\\\\EAI6010\\\\Mod5'"
      ]
     },
     "execution_count": 2,
     "metadata": {},
     "output_type": "execute_result"
    }
   ],
   "source": [
    "import os\n",
    "os.getcwd()"
   ]
  },
  {
   "cell_type": "code",
   "execution_count": 10,
   "metadata": {},
   "outputs": [
    {
     "name": "stdout",
     "output_type": "stream",
     "text": [
      "Dataset loaded successfully.\n"
     ]
    }
   ],
   "source": [
    "from pathlib import Path\n",
    "import joblib\n",
    "import numpy as np\n",
    "import pandas as pd\n",
    "from sklearn.feature_extraction.text import TfidfVectorizer\n",
    "from sklearn.svm import SVC\n",
    "from sklearn.model_selection import train_test_split\n",
    "\n",
    "# Load the YouTube Spam Collection dataset\n",
    "data_path = Path('./Assign3')  # Ensure this path exists\n",
    "\n",
    "# List of all CSV files\n",
    "files = list(data_path.glob(\"Youtube*.csv\"))\n",
    "\n",
    "# Check if files exist\n",
    "if not files:\n",
    "    raise FileNotFoundError(f\"No files found in {data_path}\")\n",
    "\n",
    "# Combine all files into a single DataFrame\n",
    "dataframes = [pd.read_csv(file) for file in files]\n",
    "df = pd.concat(dataframes, ignore_index=True)\n",
    "\n",
    "# Keep only relevant columns\n",
    "df = df[['CONTENT', 'CLASS']]\n",
    "df.columns = ['Text', 'Label']\n",
    "\n",
    "# Ensure 'Label' is binary (0: Not Spam, 1: Spam)\n",
    "df['Label'] = df['Label'].map({1: 1, 0: 0})\n",
    "\n",
    "# Save processed dataset\n",
    "df.to_csv('YoutubeSpamCollection_Processed.csv', index=False)\n",
    "\n",
    "print(\"Dataset loaded successfully.\")"
   ]
  },
  {
   "cell_type": "code",
   "execution_count": 13,
   "metadata": {},
   "outputs": [
    {
     "data": {
      "text/plain": [
       "(1956, 2)"
      ]
     },
     "execution_count": 13,
     "metadata": {},
     "output_type": "execute_result"
    }
   ],
   "source": [
    "df.shape"
   ]
  },
  {
   "cell_type": "code",
   "execution_count": 11,
   "metadata": {},
   "outputs": [],
   "source": [
    "# Train-Test Split\n",
    "X_train, X_test, y_train, y_test = train_test_split(df[\"Text\"], df[\"Label\"], test_size=0.2, random_state=42)\n",
    "\n",
    "# TF-IDF Vectorization\n",
    "vectorizer = TfidfVectorizer(max_features=5000)\n",
    "X_train_vec = vectorizer.fit_transform(X_train)\n",
    "X_test_vec = vectorizer.transform(X_test)\n",
    "\n",
    "# Train the SVM model\n",
    "svm_model = SVC(kernel=\"linear\", probability=True)\n",
    "svm_model.fit(X_train_vec, y_train)\n",
    "\n",
    "# Save the model and vectorizer\n",
    "joblib.dump(svm_model, \"svm_model.pkl\")\n",
    "joblib.dump(vectorizer, \"tfidf_vectorizer.pkl\")\n",
    "\n",
    "\n",
    "\n"
   ]
  }
 ],
 "metadata": {
  "kernelspec": {
   "display_name": ".venv",
   "language": "python",
   "name": "python3"
  },
  "language_info": {
   "codemirror_mode": {
    "name": "ipython",
    "version": 3
   },
   "file_extension": ".py",
   "mimetype": "text/x-python",
   "name": "python",
   "nbconvert_exporter": "python",
   "pygments_lexer": "ipython3",
   "version": "3.12.9"
  }
 },
 "nbformat": 4,
 "nbformat_minor": 2
}
